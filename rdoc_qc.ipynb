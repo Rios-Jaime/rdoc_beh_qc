{
 "cells": [
  {
   "cell_type": "code",
   "execution_count": 1,
   "id": "905575b1-c2a4-4266-93ee-169fb34d1477",
   "metadata": {},
   "outputs": [],
   "source": [
    "import pandas as pd\n",
    "import numpy as np\n",
    "import json\n",
    "import ast\n",
    "import os"
   ]
  },
  {
   "cell_type": "code",
   "execution_count": 2,
   "id": "ba971fde-30dd-4be5-991f-9ff56c13ecd0",
   "metadata": {},
   "outputs": [],
   "source": [
    "from utils.base_model import CognitiveTask\n",
    "from utils.utils import organize_data\n",
    "from utils.stop_model import stopModel"
   ]
  },
  {
   "cell_type": "code",
   "execution_count": 3,
   "id": "bd9ac3f0-4083-4c34-b48b-915524ae7caa",
   "metadata": {},
   "outputs": [],
   "source": [
    "file_path = '/Users/jahrios/Documents/Stanford/PoldrackLab/Projects/RDoC/code/qc_code/data'"
   ]
  },
  {
   "cell_type": "code",
   "execution_count": 4,
   "id": "26ab71be-b308-4f2a-91c4-d3147115b986",
   "metadata": {},
   "outputs": [],
   "source": [
    "data_file = 'data/subject_4c5185b5-b356-4866-9b98-fc71d92c1b9b_2023.08.04.195244.json'"
   ]
  },
  {
   "cell_type": "code",
   "execution_count": 5,
   "id": "cf9edf35-4cd8-485a-a810-e0075b6e52bd",
   "metadata": {},
   "outputs": [],
   "source": [
    "data_dict = organize_data(json_file = data_file, data_dir = file_path, ses='ses-01')"
   ]
  },
  {
   "cell_type": "code",
   "execution_count": 6,
   "id": "d9d08312-b1e6-41ae-aec0-1ccbfdc03a79",
   "metadata": {},
   "outputs": [],
   "source": [
    "subs = list(data_dict.keys())"
   ]
  },
  {
   "cell_type": "code",
   "execution_count": 7,
   "id": "67dfb056-75b8-414c-a5cc-962503719909",
   "metadata": {},
   "outputs": [
    {
     "data": {
      "text/plain": [
       "dict_keys(['stop_signal_rdoc', 'ax_cpt_rdoc', 'stroop_rdoc', 'spatial_task_switching_rdoc', 'spatial_cueing_rdoc', 'n_back_rdoc', 'go_nogo_rdoc', 'demographics_survey__rdoc'])"
      ]
     },
     "execution_count": 7,
     "metadata": {},
     "output_type": "execute_result"
    }
   ],
   "source": [
    "data_dict[subs[0]].keys()"
   ]
  },
  {
   "cell_type": "markdown",
   "id": "b0483f6c-ae6d-48ca-b64a-7a1e617119b8",
   "metadata": {},
   "source": [
    "# Testing General Class"
   ]
  },
  {
   "cell_type": "code",
   "execution_count": 8,
   "id": "18306c18-93dd-409d-81a2-fff6a7a5f01c",
   "metadata": {},
   "outputs": [],
   "source": [
    "exp_id = 'stop_signal'\n",
    "df = data_dict[subs[0]]['stop_signal_rdoc']\n",
    "participant_id = subs[0]"
   ]
  },
  {
   "cell_type": "code",
   "execution_count": 9,
   "id": "5e876f42-794a-4290-8af0-5de3d6573655",
   "metadata": {},
   "outputs": [],
   "source": [
    "my_stop_model = stopModel(participant_id=subs[0], exp_id = exp_id, task_data=df)"
   ]
  },
  {
   "cell_type": "code",
   "execution_count": 10,
   "id": "09f80b07-7601-4256-97fa-087f5d5c035e",
   "metadata": {},
   "outputs": [
    {
     "data": {
      "text/plain": [
       "'stop_signal'"
      ]
     },
     "execution_count": 10,
     "metadata": {},
     "output_type": "execute_result"
    }
   ],
   "source": [
    "my_stop_model.exp_id"
   ]
  },
  {
   "cell_type": "code",
   "execution_count": 11,
   "id": "93442eef-f3aa-4399-9c85-d2738d6d8f62",
   "metadata": {},
   "outputs": [],
   "source": [
    "results = my_stop_model.calculate_by_condition(condition_column = 'stopSignalCondition')"
   ]
  },
  {
   "cell_type": "code",
   "execution_count": 12,
   "id": "06b45ad8-c85c-4da5-a602-89d0b340f3fa",
   "metadata": {},
   "outputs": [
    {
     "data": {
      "text/html": [
       "<div>\n",
       "<style scoped>\n",
       "    .dataframe tbody tr th:only-of-type {\n",
       "        vertical-align: middle;\n",
       "    }\n",
       "\n",
       "    .dataframe tbody tr th {\n",
       "        vertical-align: top;\n",
       "    }\n",
       "\n",
       "    .dataframe thead th {\n",
       "        text-align: right;\n",
       "    }\n",
       "</style>\n",
       "<table border=\"1\" class=\"dataframe\">\n",
       "  <thead>\n",
       "    <tr style=\"text-align: right;\">\n",
       "      <th></th>\n",
       "      <th>stop_signal_go_acc</th>\n",
       "      <th>stop_signal_go_rt</th>\n",
       "      <th>stop_signal_max_ssd</th>\n",
       "      <th>stop_signal_mean_ssd</th>\n",
       "      <th>stop_signal_min_ssd</th>\n",
       "      <th>stop_signal_stop_fail_acc</th>\n",
       "      <th>stop_signal_stop_failure_rt</th>\n",
       "      <th>stop_signal_stop_success</th>\n",
       "      <th>stop_signal_omission_rate</th>\n",
       "    </tr>\n",
       "    <tr>\n",
       "      <th>subject</th>\n",
       "      <th></th>\n",
       "      <th></th>\n",
       "      <th></th>\n",
       "      <th></th>\n",
       "      <th></th>\n",
       "      <th></th>\n",
       "      <th></th>\n",
       "      <th></th>\n",
       "      <th></th>\n",
       "    </tr>\n",
       "  </thead>\n",
       "  <tbody>\n",
       "    <tr>\n",
       "      <th>4c5185b5-b356-4866-9b98-fc71d92c1b9b</th>\n",
       "      <td>0.979167</td>\n",
       "      <td>955.687943</td>\n",
       "      <td>850.0</td>\n",
       "      <td>708.333333</td>\n",
       "      <td>550.0</td>\n",
       "      <td>0.527778</td>\n",
       "      <td>866.382353</td>\n",
       "      <td>0.527778</td>\n",
       "      <td>0.020833</td>\n",
       "    </tr>\n",
       "  </tbody>\n",
       "</table>\n",
       "</div>"
      ],
      "text/plain": [
       "                                      stop_signal_go_acc  stop_signal_go_rt  \\\n",
       "subject                                                                       \n",
       "4c5185b5-b356-4866-9b98-fc71d92c1b9b            0.979167         955.687943   \n",
       "\n",
       "                                      stop_signal_max_ssd  \\\n",
       "subject                                                     \n",
       "4c5185b5-b356-4866-9b98-fc71d92c1b9b                850.0   \n",
       "\n",
       "                                      stop_signal_mean_ssd  \\\n",
       "subject                                                      \n",
       "4c5185b5-b356-4866-9b98-fc71d92c1b9b            708.333333   \n",
       "\n",
       "                                      stop_signal_min_ssd  \\\n",
       "subject                                                     \n",
       "4c5185b5-b356-4866-9b98-fc71d92c1b9b                550.0   \n",
       "\n",
       "                                      stop_signal_stop_fail_acc  \\\n",
       "subject                                                           \n",
       "4c5185b5-b356-4866-9b98-fc71d92c1b9b                   0.527778   \n",
       "\n",
       "                                      stop_signal_stop_failure_rt  \\\n",
       "subject                                                             \n",
       "4c5185b5-b356-4866-9b98-fc71d92c1b9b                   866.382353   \n",
       "\n",
       "                                      stop_signal_stop_success  \\\n",
       "subject                                                          \n",
       "4c5185b5-b356-4866-9b98-fc71d92c1b9b                  0.527778   \n",
       "\n",
       "                                      stop_signal_omission_rate  \n",
       "subject                                                          \n",
       "4c5185b5-b356-4866-9b98-fc71d92c1b9b                   0.020833  "
      ]
     },
     "execution_count": 12,
     "metadata": {},
     "output_type": "execute_result"
    }
   ],
   "source": [
    "results"
   ]
  },
  {
   "cell_type": "markdown",
   "id": "f6c35dc1-a308-4d83-95ec-bc499d795804",
   "metadata": {},
   "source": [
    "# Stop Signal"
   ]
  },
  {
   "cell_type": "code",
   "execution_count": 72,
   "id": "a5708880-d6aa-48f1-a232-e6570c44249e",
   "metadata": {},
   "outputs": [
    {
     "data": {
      "text/html": [
       "<div>\n",
       "<style scoped>\n",
       "    .dataframe tbody tr th:only-of-type {\n",
       "        vertical-align: middle;\n",
       "    }\n",
       "\n",
       "    .dataframe tbody tr th {\n",
       "        vertical-align: top;\n",
       "    }\n",
       "\n",
       "    .dataframe thead th {\n",
       "        text-align: right;\n",
       "    }\n",
       "</style>\n",
       "<table border=\"1\" class=\"dataframe\">\n",
       "  <thead>\n",
       "    <tr style=\"text-align: right;\">\n",
       "      <th></th>\n",
       "      <th>SSD</th>\n",
       "      <th>SS_duration</th>\n",
       "      <th>SS_stimulus</th>\n",
       "      <th>SS_trial_type</th>\n",
       "      <th>attention_check_percent</th>\n",
       "      <th>choices</th>\n",
       "      <th>correct</th>\n",
       "      <th>correctResponse</th>\n",
       "      <th>correctTrial</th>\n",
       "      <th>correct_choice</th>\n",
       "      <th>...</th>\n",
       "      <th>stimulus_duration</th>\n",
       "      <th>stopSignalCondition</th>\n",
       "      <th>stop_acc</th>\n",
       "      <th>success</th>\n",
       "      <th>time_elapsed</th>\n",
       "      <th>trial_duration</th>\n",
       "      <th>trial_id</th>\n",
       "      <th>trial_index</th>\n",
       "      <th>trial_type</th>\n",
       "      <th>view_history</th>\n",
       "    </tr>\n",
       "  </thead>\n",
       "  <tbody>\n",
       "    <tr>\n",
       "      <th>0</th>\n",
       "      <td>NaN</td>\n",
       "      <td>NaN</td>\n",
       "      <td>NaN</td>\n",
       "      <td>NaN</td>\n",
       "      <td>NaN</td>\n",
       "      <td>NaN</td>\n",
       "      <td>NaN</td>\n",
       "      <td>NaN</td>\n",
       "      <td>NaN</td>\n",
       "      <td>NaN</td>\n",
       "      <td>...</td>\n",
       "      <td>NaN</td>\n",
       "      <td>NaN</td>\n",
       "      <td>NaN</td>\n",
       "      <td>True</td>\n",
       "      <td>2422</td>\n",
       "      <td>NaN</td>\n",
       "      <td>NaN</td>\n",
       "      <td>0</td>\n",
       "      <td>fullscreen</td>\n",
       "      <td>NaN</td>\n",
       "    </tr>\n",
       "    <tr>\n",
       "      <th>1</th>\n",
       "      <td>NaN</td>\n",
       "      <td>NaN</td>\n",
       "      <td>NaN</td>\n",
       "      <td>NaN</td>\n",
       "      <td>NaN</td>\n",
       "      <td>NaN</td>\n",
       "      <td>NaN</td>\n",
       "      <td>NaN</td>\n",
       "      <td>NaN</td>\n",
       "      <td>NaN</td>\n",
       "      <td>...</td>\n",
       "      <td>NaN</td>\n",
       "      <td>NaN</td>\n",
       "      <td>NaN</td>\n",
       "      <td>NaN</td>\n",
       "      <td>4292</td>\n",
       "      <td>NaN</td>\n",
       "      <td>instruction_feedback</td>\n",
       "      <td>1</td>\n",
       "      <td>html-keyboard-response</td>\n",
       "      <td>NaN</td>\n",
       "    </tr>\n",
       "    <tr>\n",
       "      <th>2</th>\n",
       "      <td>NaN</td>\n",
       "      <td>NaN</td>\n",
       "      <td>NaN</td>\n",
       "      <td>NaN</td>\n",
       "      <td>NaN</td>\n",
       "      <td>NaN</td>\n",
       "      <td>NaN</td>\n",
       "      <td>NaN</td>\n",
       "      <td>NaN</td>\n",
       "      <td>NaN</td>\n",
       "      <td>...</td>\n",
       "      <td>NaN</td>\n",
       "      <td>NaN</td>\n",
       "      <td>NaN</td>\n",
       "      <td>NaN</td>\n",
       "      <td>16162</td>\n",
       "      <td>NaN</td>\n",
       "      <td>instructions</td>\n",
       "      <td>2</td>\n",
       "      <td>instructions</td>\n",
       "      <td>[{'page_index': 0, 'viewing_time': 5402}, {'pa...</td>\n",
       "    </tr>\n",
       "    <tr>\n",
       "      <th>3</th>\n",
       "      <td>NaN</td>\n",
       "      <td>NaN</td>\n",
       "      <td>NaN</td>\n",
       "      <td>NaN</td>\n",
       "      <td>NaN</td>\n",
       "      <td>NaN</td>\n",
       "      <td>NaN</td>\n",
       "      <td>NaN</td>\n",
       "      <td>NaN</td>\n",
       "      <td>NaN</td>\n",
       "      <td>...</td>\n",
       "      <td>NaN</td>\n",
       "      <td>NaN</td>\n",
       "      <td>NaN</td>\n",
       "      <td>NaN</td>\n",
       "      <td>17466</td>\n",
       "      <td>NaN</td>\n",
       "      <td>feedback</td>\n",
       "      <td>3</td>\n",
       "      <td>html-keyboard-response</td>\n",
       "      <td>NaN</td>\n",
       "    </tr>\n",
       "    <tr>\n",
       "      <th>4</th>\n",
       "      <td>NaN</td>\n",
       "      <td>NaN</td>\n",
       "      <td>NaN</td>\n",
       "      <td>NaN</td>\n",
       "      <td>NaN</td>\n",
       "      <td>NaN</td>\n",
       "      <td>NaN</td>\n",
       "      <td>NaN</td>\n",
       "      <td>NaN</td>\n",
       "      <td>NaN</td>\n",
       "      <td>...</td>\n",
       "      <td>NaN</td>\n",
       "      <td>NaN</td>\n",
       "      <td>NaN</td>\n",
       "      <td>NaN</td>\n",
       "      <td>17973</td>\n",
       "      <td>NaN</td>\n",
       "      <td>prompt_fixation</td>\n",
       "      <td>4</td>\n",
       "      <td>html-keyboard-response</td>\n",
       "      <td>NaN</td>\n",
       "    </tr>\n",
       "  </tbody>\n",
       "</table>\n",
       "<p>5 rows × 39 columns</p>\n",
       "</div>"
      ],
      "text/plain": [
       "   SSD  SS_duration SS_stimulus SS_trial_type  attention_check_percent  \\\n",
       "0  NaN          NaN         NaN           NaN                      NaN   \n",
       "1  NaN          NaN         NaN           NaN                      NaN   \n",
       "2  NaN          NaN         NaN           NaN                      NaN   \n",
       "3  NaN          NaN         NaN           NaN                      NaN   \n",
       "4  NaN          NaN         NaN           NaN                      NaN   \n",
       "\n",
       "  choices correct correctResponse  correctTrial correct_choice  \\\n",
       "0     NaN     NaN             NaN           NaN            NaN   \n",
       "1     NaN     NaN             NaN           NaN            NaN   \n",
       "2     NaN     NaN             NaN           NaN            NaN   \n",
       "3     NaN     NaN             NaN           NaN            NaN   \n",
       "4     NaN     NaN             NaN           NaN            NaN   \n",
       "\n",
       "                         ...                         stimulus_duration  \\\n",
       "0                        ...                                       NaN   \n",
       "1                        ...                                       NaN   \n",
       "2                        ...                                       NaN   \n",
       "3                        ...                                       NaN   \n",
       "4                        ...                                       NaN   \n",
       "\n",
       "   stopSignalCondition  stop_acc  success time_elapsed trial_duration  \\\n",
       "0                  NaN       NaN     True         2422            NaN   \n",
       "1                  NaN       NaN      NaN         4292            NaN   \n",
       "2                  NaN       NaN      NaN        16162            NaN   \n",
       "3                  NaN       NaN      NaN        17466            NaN   \n",
       "4                  NaN       NaN      NaN        17973            NaN   \n",
       "\n",
       "               trial_id  trial_index              trial_type  \\\n",
       "0                   NaN            0              fullscreen   \n",
       "1  instruction_feedback            1  html-keyboard-response   \n",
       "2          instructions            2            instructions   \n",
       "3              feedback            3  html-keyboard-response   \n",
       "4       prompt_fixation            4  html-keyboard-response   \n",
       "\n",
       "                                        view_history  \n",
       "0                                                NaN  \n",
       "1                                                NaN  \n",
       "2  [{'page_index': 0, 'viewing_time': 5402}, {'pa...  \n",
       "3                                                NaN  \n",
       "4                                                NaN  \n",
       "\n",
       "[5 rows x 39 columns]"
      ]
     },
     "execution_count": 72,
     "metadata": {},
     "output_type": "execute_result"
    }
   ],
   "source": [
    "data_dict[subs[0]]['stop_signal_rdoc'].head()"
   ]
  },
  {
   "cell_type": "code",
   "execution_count": 73,
   "id": "f153b394-c681-4cf4-a91f-c0f69531e307",
   "metadata": {},
   "outputs": [],
   "source": [
    "test = data_dict[subs[0]]['stop_signal_rdoc'].query(\"trial_id == 'test_trial'\")"
   ]
  },
  {
   "cell_type": "code",
   "execution_count": 76,
   "id": "569d657e-f7d1-4e91-b44f-4b05ac620b6e",
   "metadata": {},
   "outputs": [],
   "source": [
    "stop_data = test[test['stopSignalCondition'] == 'stop']"
   ]
  },
  {
   "cell_type": "code",
   "execution_count": 78,
   "id": "75506ac9-c17b-4b70-8ce0-324ec83117ab",
   "metadata": {},
   "outputs": [],
   "source": [
    "stop_fails = stop_data[stop_data['stop_acc'] == 0]"
   ]
  },
  {
   "cell_type": "code",
   "execution_count": 80,
   "id": "791cb878-1335-43c5-828a-f5d5724f338a",
   "metadata": {},
   "outputs": [
    {
     "data": {
      "text/plain": [
       "866.3823529411765"
      ]
     },
     "execution_count": 80,
     "metadata": {},
     "output_type": "execute_result"
    }
   ],
   "source": [
    "stop_fails.rt.mean()"
   ]
  },
  {
   "cell_type": "code",
   "execution_count": null,
   "id": "9ecdcaf4-1ff0-40c2-a092-53044fe494fa",
   "metadata": {},
   "outputs": [],
   "source": []
  }
 ],
 "metadata": {
  "kernelspec": {
   "display_name": "Python 3",
   "language": "python",
   "name": "python3"
  },
  "language_info": {
   "codemirror_mode": {
    "name": "ipython",
    "version": 3
   },
   "file_extension": ".py",
   "mimetype": "text/x-python",
   "name": "python",
   "nbconvert_exporter": "python",
   "pygments_lexer": "ipython3",
   "version": "3.6.13"
  }
 },
 "nbformat": 4,
 "nbformat_minor": 5
}
